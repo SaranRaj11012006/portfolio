{
  "cells": [
    {
      "cell_type": "markdown",
      "metadata": {
        "id": "view-in-github",
        "colab_type": "text"
      },
      "source": [
        "<a href=\"https://colab.research.google.com/github/SaranRaj11012006/portfolio/blob/main/String.ipynb\" target=\"_parent\"><img src=\"https://colab.research.google.com/assets/colab-badge.svg\" alt=\"Open In Colab\"/></a>"
      ]
    },
    {
      "cell_type": "markdown",
      "source": [
        "String"
      ],
      "metadata": {
        "id": "v39uUWmC_Rbl"
      }
    },
    {
      "cell_type": "code",
      "source": [
        "# Declare a string variable\n",
        "name = \"John Doe\"\n",
        "\n",
        "# String operations\n",
        "print(\"Original String:\", name)\n",
        "print(\"Uppercase:\", name.upper())\n",
        "print(\"Lowercase:\", name.lower())\n",
        "print(\"Length:\", len(name))\n",
        "print(\"Substring:\", name[0:4])  # Extract \"John\"\n",
        "print(\"Concatenation:\", name + \" is a developer\")\n",
        "\n",
        "# String formatting\n",
        "age = 30\n",
        "print(f\"{name} is {age} years old.\")"
      ],
      "metadata": {
        "id": "U2T75EkA_R4i",
        "outputId": "b700ad71-025f-46b7-de77-25c34628a711",
        "colab": {
          "base_uri": "https://localhost:8080/"
        }
      },
      "execution_count": 26,
      "outputs": [
        {
          "output_type": "stream",
          "name": "stdout",
          "text": [
            "Original String: John Doe\n",
            "Uppercase: JOHN DOE\n",
            "Lowercase: john doe\n",
            "Length: 8\n",
            "Substring: John\n",
            "Concatenation: John Doe is a developer\n",
            "John Doe is 30 years old.\n"
          ]
        }
      ]
    }
  ],
  "metadata": {
    "colab": {
      "name": "Welcome to Colab",
      "provenance": [],
      "include_colab_link": true
    },
    "kernelspec": {
      "display_name": "Python 3",
      "name": "python3"
    }
  },
  "nbformat": 4,
  "nbformat_minor": 0
}