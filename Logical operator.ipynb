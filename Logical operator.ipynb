{
  "cells": [
    {
      "cell_type": "markdown",
      "metadata": {
        "id": "view-in-github",
        "colab_type": "text"
      },
      "source": [
        "<a href=\"https://colab.research.google.com/github/SaranRaj11012006/portfolio/blob/main/Logical%20operator.ipynb\" target=\"_parent\"><img src=\"https://colab.research.google.com/assets/colab-badge.svg\" alt=\"Open In Colab\"/></a>"
      ]
    },
    {
      "cell_type": "markdown",
      "source": [
        "Logical operator"
      ],
      "metadata": {
        "id": "Aw8OVW9V9Xfh"
      }
    },
    {
      "cell_type": "code",
      "source": [
        "# Declare variables\n",
        "A = True\n",
        "B = False\n",
        "\n",
        "# Logical AND\n",
        "print(\"A and B:\", A and B)\n",
        "\n",
        "# Logical OR\n",
        "print(\"A or B:\", A or B)\n",
        "\n",
        "# Logical NOT\n",
        "print(\"not A:\", not A)\n",
        "print(\"not B:\", not B)"
      ],
      "metadata": {
        "id": "7RU6ydLe9X5G",
        "outputId": "2b126d0e-f314-4024-963e-9e4a8a8772d6",
        "colab": {
          "base_uri": "https://localhost:8080/"
        }
      },
      "execution_count": 19,
      "outputs": [
        {
          "output_type": "stream",
          "name": "stdout",
          "text": [
            "A and B: False\n",
            "A or B: True\n",
            "not A: False\n",
            "not B: True\n"
          ]
        }
      ]
    }
  ],
  "metadata": {
    "colab": {
      "name": "Welcome to Colab",
      "provenance": [],
      "include_colab_link": true
    },
    "kernelspec": {
      "display_name": "Python 3",
      "name": "python3"
    }
  },
  "nbformat": 4,
  "nbformat_minor": 0
}