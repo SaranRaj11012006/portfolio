{
  "cells": [
    {
      "cell_type": "markdown",
      "metadata": {
        "id": "view-in-github",
        "colab_type": "text"
      },
      "source": [
        "<a href=\"https://colab.research.google.com/github/SaranRaj11012006/portfolio/blob/main/If%20else.ipynb\" target=\"_parent\"><img src=\"https://colab.research.google.com/assets/colab-badge.svg\" alt=\"Open In Colab\"/></a>"
      ]
    },
    {
      "cell_type": "markdown",
      "source": [
        "If else"
      ],
      "metadata": {
        "id": "Uqr215hH-gIy"
      }
    },
    {
      "cell_type": "code",
      "source": [
        "# Declare a variable\n",
        "age = 25\n",
        "\n",
        "# If-else statement\n",
        "if age >= 18:\n",
        "    print(\"You are an adult.\")\n",
        "else:\n",
        "    print(\"You are a minor.\")\n",
        "\n",
        "# If-elif-else statement\n",
        "if age < 13:\n",
        "    print(\"You are a kid.\")\n",
        "elif age < 18:\n",
        "    print(\"You are a teenager.\")\n",
        "else:\n",
        "    print(\"You are an adult.\")"
      ],
      "metadata": {
        "id": "N5hlnl-T-goE",
        "outputId": "36e7cdae-f8ed-48b6-a180-719aeaaf3f7a",
        "colab": {
          "base_uri": "https://localhost:8080/"
        }
      },
      "execution_count": 22,
      "outputs": [
        {
          "output_type": "stream",
          "name": "stdout",
          "text": [
            "You are an adult.\n",
            "You are an adult.\n"
          ]
        }
      ]
    }
  ],
  "metadata": {
    "colab": {
      "name": "Welcome to Colab",
      "provenance": [],
      "include_colab_link": true
    },
    "kernelspec": {
      "display_name": "Python 3",
      "name": "python3"
    }
  },
  "nbformat": 4,
  "nbformat_minor": 0
}