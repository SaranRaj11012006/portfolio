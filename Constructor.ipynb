{
  "cells": [
    {
      "cell_type": "markdown",
      "metadata": {
        "id": "view-in-github",
        "colab_type": "text"
      },
      "source": [
        "<a href=\"https://colab.research.google.com/github/SaranRaj11012006/portfolio/blob/main/Constructor.ipynb\" target=\"_parent\"><img src=\"https://colab.research.google.com/assets/colab-badge.svg\" alt=\"Open In Colab\"/></a>"
      ]
    },
    {
      "cell_type": "markdown",
      "source": [
        "Constructor"
      ],
      "metadata": {
        "id": "4IAUmBZr78Di"
      }
    },
    {
      "cell_type": "code",
      "source": [
        "\n",
        "Person John Doe created.\n",
        "Person Jane Doe created.\n",
        "\n",
        "Person 1 Details:\n",
        "Name: John Doe\n",
        "Age: 30\n",
        "\n",
        "Person 2 Details:\n",
        "Name: Jone Doe\n",
        "Age: 25"
      ],
      "metadata": {
        "id": "4wdwwG2S8AKF",
        "outputId": "02efc2d7-06ce-4687-828c-0d6e03f47646",
        "colab": {
          "base_uri": "https://localhost:8080/",
          "height": 124
        }
      },
      "execution_count": 13,
      "outputs": [
        {
          "output_type": "error",
          "ename": "SyntaxError",
          "evalue": "invalid syntax (ipython-input-13-4178096033.py, line 1)",
          "traceback": [
            "\u001b[0;36m  File \u001b[0;32m\"/tmp/ipython-input-13-4178096033.py\"\u001b[0;36m, line \u001b[0;32m1\u001b[0m\n\u001b[0;31m    Person John Doe created.\u001b[0m\n\u001b[0m           ^\u001b[0m\n\u001b[0;31mSyntaxError\u001b[0m\u001b[0;31m:\u001b[0m invalid syntax\n"
          ]
        }
      ]
    }
  ],
  "metadata": {
    "colab": {
      "name": "Welcome to Colab",
      "provenance": [],
      "include_colab_link": true
    },
    "kernelspec": {
      "display_name": "Python 3",
      "name": "python3"
    }
  },
  "nbformat": 4,
  "nbformat_minor": 0
}